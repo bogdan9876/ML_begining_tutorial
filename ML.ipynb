{
 "cells": [
  {
   "cell_type": "code",
   "execution_count": 3,
   "outputs": [
    {
     "data": {
      "text/plain": "(16598, 11)"
     },
     "execution_count": 3,
     "metadata": {},
     "output_type": "execute_result"
    }
   ],
   "source": [
    "import pandas as pd\n",
    "df = pd.read_csv('vgsales.csv')\n",
    "df.shape"
   ],
   "metadata": {
    "collapsed": false,
    "ExecuteTime": {
     "start_time": "2023-11-29T13:31:29.674768300Z"
    }
   },
   "id": "initial_id"
  },
  {
   "cell_type": "code",
   "execution_count": 6,
   "outputs": [
    {
     "name": "stdout",
     "output_type": "stream",
     "text": [
      "Hello world\n"
     ]
    }
   ],
   "source": [
    "print('Hello world')"
   ],
   "metadata": {
    "collapsed": false,
    "ExecuteTime": {
     "end_time": "2023-11-29T13:40:58.115928600Z",
     "start_time": "2023-11-29T13:40:58.099981800Z"
    }
   },
   "id": "673d1063e64ccc9c"
  },
  {
   "cell_type": "code",
   "execution_count": 7,
   "outputs": [
    {
     "name": "stdout",
     "output_type": "stream",
     "text": [
      "ocean\n"
     ]
    }
   ],
   "source": [
    "print('ocean')"
   ],
   "metadata": {
    "collapsed": false,
    "ExecuteTime": {
     "end_time": "2023-11-29T13:41:13.265060300Z",
     "start_time": "2023-11-29T13:41:13.210307600Z"
    }
   },
   "id": "6c2b645ae1080dce"
  },
  {
   "cell_type": "code",
   "execution_count": 5,
   "outputs": [
    {
     "data": {
      "text/plain": "array([[1, 'Wii Sports', 'Wii', ..., 3.77, 8.46, 82.74],\n       [2, 'Super Mario Bros.', 'NES', ..., 6.81, 0.77, 40.24],\n       [3, 'Mario Kart Wii', 'Wii', ..., 3.79, 3.31, 35.82],\n       ...,\n       [16598, 'SCORE International Baja 1000: The Official Game', 'PS2',\n        ..., 0.0, 0.0, 0.01],\n       [16599, 'Know How 2', 'DS', ..., 0.0, 0.0, 0.01],\n       [16600, 'Spirits & Spells', 'GBA', ..., 0.0, 0.0, 0.01]],\n      dtype=object)"
     },
     "execution_count": 5,
     "metadata": {},
     "output_type": "execute_result"
    }
   ],
   "source": [
    "df.values"
   ],
   "metadata": {
    "collapsed": false,
    "ExecuteTime": {
     "end_time": "2023-11-29T13:34:03.474985900Z",
     "start_time": "2023-11-29T13:34:03.449067300Z"
    }
   },
   "id": "b6e2f9ff9add17f4"
  },
  {
   "cell_type": "code",
   "execution_count": 2,
   "outputs": [],
   "source": [
    "from sklearn.tree import DecisionTreeClassifier\n",
    "\n",
    "\n",
    "music_data = pd.read_csv('music.csv')\n",
    "X = music_data.drop(columns=['genre'])\n",
    "y = music_data['genre']\n",
    "\n",
    "model = DecisionTreeClassifier()\n",
    "model.fit(X, y)\n"
   ],
   "metadata": {
    "collapsed": false,
    "ExecuteTime": {
     "end_time": "2023-11-29T15:36:47.368044600Z",
     "start_time": "2023-11-29T15:36:47.122245100Z"
    }
   },
   "id": "22a6ad960aaef216"
  },
  {
   "cell_type": "code",
   "execution_count": null,
   "outputs": [],
   "source": [],
   "metadata": {
    "collapsed": false
   },
   "id": "642d1ffc24fe5317"
  }
 ],
 "metadata": {
  "kernelspec": {
   "display_name": "Python 3",
   "language": "python",
   "name": "python3"
  },
  "language_info": {
   "codemirror_mode": {
    "name": "ipython",
    "version": 2
   },
   "file_extension": ".py",
   "mimetype": "text/x-python",
   "name": "python",
   "nbconvert_exporter": "python",
   "pygments_lexer": "ipython2",
   "version": "2.7.6"
  }
 },
 "nbformat": 4,
 "nbformat_minor": 5
}
